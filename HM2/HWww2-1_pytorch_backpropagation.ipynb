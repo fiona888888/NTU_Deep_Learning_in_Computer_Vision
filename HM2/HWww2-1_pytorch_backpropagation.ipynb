{
 "cells": [
  {
   "cell_type": "markdown",
   "metadata": {},
   "source": [
    "## Homework 02-1: due 2024/04/10 12:20 (15%)\n",
    "\n",
    "#### - In this part, you should calculate the forward pass and backpropagation manually and there is no need for any coding.\n",
    "\n",
    "#### - Please scan your hand-writting calculation and save it as HW2-1.pdf\n",
    "\n",
    "#### - You can check your answer and observe how PyTorch do the backpropagation with the following script.\n",
    "\n",
    "#### - You can change the iterations in script to observe how the loss and the output change."
   ]
  },
  {
   "cell_type": "markdown",
   "metadata": {},
   "source": [
    "##### 1. Please do the forward pass and backpropagation with a neural network as below, the __input is 2__ and the __target is 1__. Also, calculate the quadratic loss, \n",
    "##### i.e, $$Loss = \\frac{1}{2}(y-y^*)^2$$ \n",
    "##### Please __update the parameters twice__, i.e., do two back propagation operations, and use the __learning rate 0.1__, __initial weights 0.5__ , and __initial bias -0.1__.\n",
    "\n",
    "![alternatvie text](https://lh3.googleusercontent.com/d/1aONoqQPgC0UqrbLX1gnfxPemnV2n1CY0)"
   ]
  },
  {
   "cell_type": "markdown",
   "metadata": {},
   "source": [
    "#### Please help me organize the calculation results into a table for scoring purposes. The table presentation is as follows:\n",
    "\n",
    "**First update - weight**\n",
    "\n",
    "|           | Layer 1      | Layer 2      | Layer 3      |\n",
    "|-----------|--------------|--------------|--------------|\n",
    "| Parameter | value_layer1 | value_layer2 | value_layer3 |\n",
    "| Gradient  | grad_layer1  | grad_layer2  | grad_layer3  |\n",
    "| Updated   | update_layer1| update_layer2| update_layer3|\n",
    "\n",
    "**First update - bias**\n",
    "\n",
    "|           | Layer 1      | Layer 2      | Layer 3      |\n",
    "|-----------|--------------|--------------|--------------|\n",
    "| Parameter | value_layer1 | value_layer2 | value_layer3 |\n",
    "| Gradient  | grad_layer1  | grad_layer2  | grad_layer3  |\n",
    "| Updated   | update_layer1| update_layer2| update_layer3|\n",
    "\n",
    "Please replace `value_layerX`, `grad_layerX`, and `update_layerX` with the actual numerical values for each layer accordingly, the way of presentation is also the same for the second iteration.\n"
   ]
  },
  {
   "cell_type": "code",
   "execution_count": 2,
   "metadata": {},
   "outputs": [],
   "source": [
    "import torch\n",
    "import torch.nn as nn\n",
    "import torch.optim as optim\n",
    "from collections import OrderedDict"
   ]
  },
  {
   "cell_type": "code",
   "execution_count": 3,
   "metadata": {},
   "outputs": [],
   "source": [
    "X = torch.tensor([2], dtype= torch.float32)\n",
    "y = torch.tensor([1], dtype= torch.float32)"
   ]
  },
  {
   "cell_type": "code",
   "execution_count": 4,
   "metadata": {},
   "outputs": [],
   "source": [
    "# Half of the sum square error\n",
    "def loss(y, pred):\n",
    "    return ((pred-y)**2).sum()/2"
   ]
  },
  {
   "cell_type": "code",
   "execution_count": 5,
   "metadata": {},
   "outputs": [],
   "source": [
    "# Show parameters\n",
    "def show_parameters(i, X, model):\n",
    "    print(f\"Iters {i}\")\n",
    "    print(\"Input:\")\n",
    "    print(X)\n",
    "    for layer_name, layers in model.named_modules():\n",
    "        print(\"-----------------------\")\n",
    "        if not isinstance(layers, nn.Sequential):\n",
    "            for param_name, param in layers.named_parameters():\n",
    "                print(f\"{layer_name} {param_name} {param}\")\n",
    "                print(f\"{layer_name} {param_name} Gradient\")\n",
    "                print(param.grad)\n",
    "            print(f\"{layer_name} output:\")\n",
    "            X = layers(X)\n",
    "            print(X)\n",
    "            \n",
    "    print(\"===============================================\")"
   ]
  },
  {
   "cell_type": "code",
   "execution_count": 6,
   "metadata": {},
   "outputs": [],
   "source": [
    "def initialize_weights(model):\n",
    "    for name, i in model.named_modules():\n",
    "        if isinstance(i, nn.Linear):\n",
    "            nn.init.constant_(i.weight.data, 0.5)\n",
    "            nn.init.constant_(i.bias.data, -0.1)"
   ]
  },
  {
   "cell_type": "code",
   "execution_count": 7,
   "metadata": {},
   "outputs": [
    {
     "name": "stdout",
     "output_type": "stream",
     "text": [
      "Iters 0\n",
      "Input:\n",
      "tensor([2.])\n",
      "-----------------------\n",
      "-----------------------\n",
      "Layer1 weight Parameter containing:\n",
      "tensor([[0.5000],\n",
      "        [0.5000]], requires_grad=True)\n",
      "Layer1 weight Gradient\n",
      "tensor([[-0.3000],\n",
      "        [-0.3000]])\n",
      "Layer1 bias Parameter containing:\n",
      "tensor([-0.1000, -0.1000], requires_grad=True)\n",
      "Layer1 bias Gradient\n",
      "tensor([-0.1500, -0.1500])\n",
      "Layer1 output:\n",
      "tensor([0.9000, 0.9000], grad_fn=<ViewBackward0>)\n",
      "-----------------------\n",
      "ReLU1 output:\n",
      "tensor([0.9000, 0.9000], grad_fn=<ReluBackward0>)\n",
      "-----------------------\n",
      "Layer2 weight Parameter containing:\n",
      "tensor([[0.5000, 0.5000],\n",
      "        [0.5000, 0.5000]], requires_grad=True)\n",
      "Layer2 weight Gradient\n",
      "tensor([[-0.1350, -0.1350],\n",
      "        [-0.1350, -0.1350]])\n",
      "Layer2 bias Parameter containing:\n",
      "tensor([-0.1000, -0.1000], requires_grad=True)\n",
      "Layer2 bias Gradient\n",
      "tensor([-0.1500, -0.1500])\n",
      "Layer2 output:\n",
      "tensor([0.8000, 0.8000], grad_fn=<ViewBackward0>)\n",
      "-----------------------\n",
      "ReLU2 output:\n",
      "tensor([0.8000, 0.8000], grad_fn=<ReluBackward0>)\n",
      "-----------------------\n",
      "Layer3 weight Parameter containing:\n",
      "tensor([[0.5000, 0.5000]], requires_grad=True)\n",
      "Layer3 weight Gradient\n",
      "tensor([[-0.2400, -0.2400]])\n",
      "Layer3 bias Parameter containing:\n",
      "tensor([-0.1000], requires_grad=True)\n",
      "Layer3 bias Gradient\n",
      "tensor([-0.3000])\n",
      "Layer3 output:\n",
      "tensor([0.7000], grad_fn=<ViewBackward0>)\n",
      "===============================================\n",
      "Iters 1\n",
      "Input:\n",
      "tensor([2.])\n",
      "-----------------------\n",
      "-----------------------\n",
      "Layer1 weight Parameter containing:\n",
      "tensor([[0.5300],\n",
      "        [0.5300]], requires_grad=True)\n",
      "Layer1 weight Gradient\n",
      "tensor([[-0.1181],\n",
      "        [-0.1181]])\n",
      "Layer1 bias Parameter containing:\n",
      "tensor([-0.0850, -0.0850], requires_grad=True)\n",
      "Layer1 bias Gradient\n",
      "tensor([-0.0590, -0.0590])\n",
      "Layer1 output:\n",
      "tensor([0.9750, 0.9750], grad_fn=<ViewBackward0>)\n",
      "-----------------------\n",
      "ReLU1 output:\n",
      "tensor([0.9750, 0.9750], grad_fn=<ReluBackward0>)\n",
      "-----------------------\n",
      "Layer2 weight Parameter containing:\n",
      "tensor([[0.5135, 0.5135],\n",
      "        [0.5135, 0.5135]], requires_grad=True)\n",
      "Layer2 weight Gradient\n",
      "tensor([[-0.0560, -0.0560],\n",
      "        [-0.0560, -0.0560]])\n",
      "Layer2 bias Parameter containing:\n",
      "tensor([-0.0850, -0.0850], requires_grad=True)\n",
      "Layer2 bias Gradient\n",
      "tensor([-0.0575, -0.0575])\n",
      "Layer2 output:\n",
      "tensor([0.9163, 0.9163], grad_fn=<ViewBackward0>)\n",
      "-----------------------\n",
      "ReLU2 output:\n",
      "tensor([0.9163, 0.9163], grad_fn=<ReluBackward0>)\n",
      "-----------------------\n",
      "Layer3 weight Parameter containing:\n",
      "tensor([[0.5240, 0.5240]], requires_grad=True)\n",
      "Layer3 weight Gradient\n",
      "tensor([[-0.1005, -0.1005]])\n",
      "Layer3 bias Parameter containing:\n",
      "tensor([-0.0700], requires_grad=True)\n",
      "Layer3 bias Gradient\n",
      "tensor([-0.1097])\n",
      "Layer3 output:\n",
      "tensor([0.8903], grad_fn=<ViewBackward0>)\n",
      "===============================================\n"
     ]
    }
   ],
   "source": [
    "model = nn.Sequential(OrderedDict([(\"Layer1\", nn.Linear(1, 2)), \n",
    "                                   (\"ReLU1\", nn.ReLU()),\n",
    "                                   (\"Layer2\", nn.Linear(2, 2)), \n",
    "                                   (\"ReLU2\", nn.ReLU()),\n",
    "                                   (\"Layer3\", nn.Linear(2, 1))]))\n",
    "initialize_weights(model)\n",
    "lr = 0.1\n",
    "n_iters = 2\n",
    "optimizer = optim.SGD(model.parameters(), lr=lr, momentum=0)\n",
    "loss_list = []\n",
    "for i in range(n_iters):\n",
    "    optimizer.zero_grad()\n",
    "    pred = model(X)\n",
    "    l = loss(pred, y)\n",
    "    loss_list.append(l.detach().numpy())\n",
    "    l.backward()\n",
    "    show_parameters(i, X, model)\n",
    "    optimizer.step()"
   ]
  },
  {
   "cell_type": "code",
   "execution_count": null,
   "metadata": {},
   "outputs": [],
   "source": []
  }
 ],
 "metadata": {
  "kernelspec": {
   "display_name": "stenv",
   "language": "python",
   "name": "python3"
  },
  "language_info": {
   "codemirror_mode": {
    "name": "ipython",
    "version": 3
   },
   "file_extension": ".py",
   "mimetype": "text/x-python",
   "name": "python",
   "nbconvert_exporter": "python",
   "pygments_lexer": "ipython3",
   "version": "3.10.16"
  }
 },
 "nbformat": 4,
 "nbformat_minor": 4
}
